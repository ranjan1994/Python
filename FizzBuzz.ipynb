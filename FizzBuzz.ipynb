{
 "cells": [
  {
   "cell_type": "code",
   "execution_count": null,
   "metadata": {},
   "outputs": [],
   "source": [
    "#if num is divisible by 3 print fizz,, if by 5 then buzz else print fizzbuzz"
   ]
  },
  {
   "cell_type": "code",
   "execution_count": 13,
   "metadata": {},
   "outputs": [
    {
     "name": "stdout",
     "output_type": "stream",
     "text": [
      "Enter a number19\n",
      "fizzBuzz\n"
     ]
    }
   ],
   "source": [
    "x = int(input(\"Enter a number\"))\n",
    "y=x%3\n",
    "if y==0:\n",
    "    print(\"Fizz\")\n",
    "    y=x%5\n",
    "    if y==0:\n",
    "        print(\"Buzz\")\n",
    "else:\n",
    "    print(\"fizzBuzz\")"
   ]
  },
  {
   "cell_type": "code",
   "execution_count": null,
   "metadata": {},
   "outputs": [],
   "source": [
    "#Write a short program that prints each number from 1 to 100 on a new line. \n",
    "#For each multiple of 3, print \"Fizz\" instead of the number. \n",
    "#For each multiple of 5, print \"Buzz\" instead of the number. \n",
    "#For numbers which are multiples of both 3 and 5, print \"FizzBuzz\" instead of the number."
   ]
  },
  {
   "cell_type": "code",
   "execution_count": 16,
   "metadata": {},
   "outputs": [
    {
     "name": "stdout",
     "output_type": "stream",
     "text": [
      "1\n",
      "2\n",
      "Fizz\n",
      "4\n",
      "Buzz\n",
      "Fizz\n",
      "7\n",
      "8\n",
      "Fizz\n",
      "Buzz\n"
     ]
    }
   ],
   "source": [
    "for i in range(11):\n",
    "    if i==0:\n",
    "        continue\n",
    "    elif i%15==0:\n",
    "        print ('FizzBuzz')\n",
    "    elif i%5==0:\n",
    "        print ('Buzz')\n",
    "    elif i%3==0:\n",
    "        print ('Fizz')\n",
    "    else:\n",
    "        print(i)"
   ]
  }
 ],
 "metadata": {
  "kernelspec": {
   "display_name": "Python 3",
   "language": "python",
   "name": "python3"
  },
  "language_info": {
   "codemirror_mode": {
    "name": "ipython",
    "version": 3
   },
   "file_extension": ".py",
   "mimetype": "text/x-python",
   "name": "python",
   "nbconvert_exporter": "python",
   "pygments_lexer": "ipython3",
   "version": "3.8.5"
  }
 },
 "nbformat": 4,
 "nbformat_minor": 4
}
